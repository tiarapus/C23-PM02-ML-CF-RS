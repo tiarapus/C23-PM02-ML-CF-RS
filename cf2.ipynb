{
  "nbformat": 4,
  "nbformat_minor": 0,
  "metadata": {
    "colab": {
      "provenance": [],
      "authorship_tag": "ABX9TyNpQR1lPiV9h80ZZ2o+p2YD",
      "include_colab_link": true
    },
    "kernelspec": {
      "name": "python3",
      "display_name": "Python 3"
    },
    "language_info": {
      "name": "python"
    }
  },
  "cells": [
    {
      "cell_type": "markdown",
      "metadata": {
        "id": "view-in-github",
        "colab_type": "text"
      },
      "source": [
        "<a href=\"https://colab.research.google.com/github/tiarapus/C23-PM02-ML-CF-RS/blob/main/cf2.ipynb\" target=\"_parent\"><img src=\"https://colab.research.google.com/assets/colab-badge.svg\" alt=\"Open In Colab\"/></a>"
      ]
    },
    {
      "cell_type": "markdown",
      "source": [
        "### IMPORT PACKAGE"
      ],
      "metadata": {
        "id": "2RcXLDhV_kgJ"
      }
    },
    {
      "cell_type": "code",
      "source": [
        "!pip install scikit-surprise"
      ],
      "metadata": {
        "colab": {
          "base_uri": "https://localhost:8080/"
        },
        "id": "-yLtBAmt3tsy",
        "outputId": "70c86d41-dc82-433c-d20b-6bcdd8cdca48"
      },
      "execution_count": 10,
      "outputs": [
        {
          "output_type": "stream",
          "name": "stdout",
          "text": [
            "Looking in indexes: https://pypi.org/simple, https://us-python.pkg.dev/colab-wheels/public/simple/\n",
            "Collecting scikit-surprise\n",
            "  Downloading scikit-surprise-1.1.3.tar.gz (771 kB)\n",
            "\u001b[2K     \u001b[90m━━━━━━━━━━━━━━━━━━━━━━━━━━━━━━━━━━━━━━\u001b[0m \u001b[32m772.0/772.0 kB\u001b[0m \u001b[31m12.1 MB/s\u001b[0m eta \u001b[36m0:00:00\u001b[0m\n",
            "\u001b[?25h  Preparing metadata (setup.py) ... \u001b[?25l\u001b[?25hdone\n",
            "Requirement already satisfied: joblib>=1.0.0 in /usr/local/lib/python3.10/dist-packages (from scikit-surprise) (1.2.0)\n",
            "Requirement already satisfied: numpy>=1.17.3 in /usr/local/lib/python3.10/dist-packages (from scikit-surprise) (1.22.4)\n",
            "Requirement already satisfied: scipy>=1.3.2 in /usr/local/lib/python3.10/dist-packages (from scikit-surprise) (1.10.1)\n",
            "Building wheels for collected packages: scikit-surprise\n",
            "  Building wheel for scikit-surprise (setup.py) ... \u001b[?25l\u001b[?25hdone\n",
            "  Created wheel for scikit-surprise: filename=scikit_surprise-1.1.3-cp310-cp310-linux_x86_64.whl size=3095461 sha256=b6212778f827895a51f57727036cde3c9b872ac580c6ff5784645be5f0f944d1\n",
            "  Stored in directory: /root/.cache/pip/wheels/a5/ca/a8/4e28def53797fdc4363ca4af740db15a9c2f1595ebc51fb445\n",
            "Successfully built scikit-surprise\n",
            "Installing collected packages: scikit-surprise\n",
            "Successfully installed scikit-surprise-1.1.3\n"
          ]
        }
      ]
    },
    {
      "cell_type": "code",
      "execution_count": 107,
      "metadata": {
        "id": "kKpiTx3Ep6Dg"
      },
      "outputs": [],
      "source": [
        "# Data processing\n",
        "import pandas as pd\n",
        "import numpy as np\n",
        "\n",
        "# Visualization\n",
        "import seaborn as sns\n",
        "import matplotlib.pyplot as plt\n",
        "\n",
        "# Similarity\n",
        "from surprise import Dataset, Reader, accuracy, SVD\n",
        "from sklearn.metrics import mean_squared_error, mean_absolute_error\n",
        "from surprise.model_selection import cross_validate\n",
        "from surprise.model_selection import train_test_split"
      ]
    },
    {
      "cell_type": "markdown",
      "source": [
        "### DATA PREP"
      ],
      "metadata": {
        "id": "4p9pwLUQ_ii3"
      }
    },
    {
      "cell_type": "code",
      "source": [
        "# Read in data\n",
        "ratings=pd.read_csv('/content/pack_ratings.csv', sep=';')\n",
        "\n",
        "# Take a look at the data\n",
        "ratings.head()"
      ],
      "metadata": {
        "colab": {
          "base_uri": "https://localhost:8080/",
          "height": 206
        },
        "id": "8CueEG7up9jD",
        "outputId": "23df3027-fc17-4002-869a-624d71b2e2ed"
      },
      "execution_count": 108,
      "outputs": [
        {
          "output_type": "execute_result",
          "data": {
            "text/plain": [
              "   rating_id  user_id  pack_id  pack_rating\n",
              "0          1        1        1            4\n",
              "1          2        3        1            2\n",
              "2          3        2        2            1\n",
              "3          4        3        4            3\n",
              "4          5        2        3            2"
            ],
            "text/html": [
              "\n",
              "  <div id=\"df-5b8973fe-6594-4463-8ca2-2e7eda1b6797\">\n",
              "    <div class=\"colab-df-container\">\n",
              "      <div>\n",
              "<style scoped>\n",
              "    .dataframe tbody tr th:only-of-type {\n",
              "        vertical-align: middle;\n",
              "    }\n",
              "\n",
              "    .dataframe tbody tr th {\n",
              "        vertical-align: top;\n",
              "    }\n",
              "\n",
              "    .dataframe thead th {\n",
              "        text-align: right;\n",
              "    }\n",
              "</style>\n",
              "<table border=\"1\" class=\"dataframe\">\n",
              "  <thead>\n",
              "    <tr style=\"text-align: right;\">\n",
              "      <th></th>\n",
              "      <th>rating_id</th>\n",
              "      <th>user_id</th>\n",
              "      <th>pack_id</th>\n",
              "      <th>pack_rating</th>\n",
              "    </tr>\n",
              "  </thead>\n",
              "  <tbody>\n",
              "    <tr>\n",
              "      <th>0</th>\n",
              "      <td>1</td>\n",
              "      <td>1</td>\n",
              "      <td>1</td>\n",
              "      <td>4</td>\n",
              "    </tr>\n",
              "    <tr>\n",
              "      <th>1</th>\n",
              "      <td>2</td>\n",
              "      <td>3</td>\n",
              "      <td>1</td>\n",
              "      <td>2</td>\n",
              "    </tr>\n",
              "    <tr>\n",
              "      <th>2</th>\n",
              "      <td>3</td>\n",
              "      <td>2</td>\n",
              "      <td>2</td>\n",
              "      <td>1</td>\n",
              "    </tr>\n",
              "    <tr>\n",
              "      <th>3</th>\n",
              "      <td>4</td>\n",
              "      <td>3</td>\n",
              "      <td>4</td>\n",
              "      <td>3</td>\n",
              "    </tr>\n",
              "    <tr>\n",
              "      <th>4</th>\n",
              "      <td>5</td>\n",
              "      <td>2</td>\n",
              "      <td>3</td>\n",
              "      <td>2</td>\n",
              "    </tr>\n",
              "  </tbody>\n",
              "</table>\n",
              "</div>\n",
              "      <button class=\"colab-df-convert\" onclick=\"convertToInteractive('df-5b8973fe-6594-4463-8ca2-2e7eda1b6797')\"\n",
              "              title=\"Convert this dataframe to an interactive table.\"\n",
              "              style=\"display:none;\">\n",
              "        \n",
              "  <svg xmlns=\"http://www.w3.org/2000/svg\" height=\"24px\"viewBox=\"0 0 24 24\"\n",
              "       width=\"24px\">\n",
              "    <path d=\"M0 0h24v24H0V0z\" fill=\"none\"/>\n",
              "    <path d=\"M18.56 5.44l.94 2.06.94-2.06 2.06-.94-2.06-.94-.94-2.06-.94 2.06-2.06.94zm-11 1L8.5 8.5l.94-2.06 2.06-.94-2.06-.94L8.5 2.5l-.94 2.06-2.06.94zm10 10l.94 2.06.94-2.06 2.06-.94-2.06-.94-.94-2.06-.94 2.06-2.06.94z\"/><path d=\"M17.41 7.96l-1.37-1.37c-.4-.4-.92-.59-1.43-.59-.52 0-1.04.2-1.43.59L10.3 9.45l-7.72 7.72c-.78.78-.78 2.05 0 2.83L4 21.41c.39.39.9.59 1.41.59.51 0 1.02-.2 1.41-.59l7.78-7.78 2.81-2.81c.8-.78.8-2.07 0-2.86zM5.41 20L4 18.59l7.72-7.72 1.47 1.35L5.41 20z\"/>\n",
              "  </svg>\n",
              "      </button>\n",
              "      \n",
              "  <style>\n",
              "    .colab-df-container {\n",
              "      display:flex;\n",
              "      flex-wrap:wrap;\n",
              "      gap: 12px;\n",
              "    }\n",
              "\n",
              "    .colab-df-convert {\n",
              "      background-color: #E8F0FE;\n",
              "      border: none;\n",
              "      border-radius: 50%;\n",
              "      cursor: pointer;\n",
              "      display: none;\n",
              "      fill: #1967D2;\n",
              "      height: 32px;\n",
              "      padding: 0 0 0 0;\n",
              "      width: 32px;\n",
              "    }\n",
              "\n",
              "    .colab-df-convert:hover {\n",
              "      background-color: #E2EBFA;\n",
              "      box-shadow: 0px 1px 2px rgba(60, 64, 67, 0.3), 0px 1px 3px 1px rgba(60, 64, 67, 0.15);\n",
              "      fill: #174EA6;\n",
              "    }\n",
              "\n",
              "    [theme=dark] .colab-df-convert {\n",
              "      background-color: #3B4455;\n",
              "      fill: #D2E3FC;\n",
              "    }\n",
              "\n",
              "    [theme=dark] .colab-df-convert:hover {\n",
              "      background-color: #434B5C;\n",
              "      box-shadow: 0px 1px 3px 1px rgba(0, 0, 0, 0.15);\n",
              "      filter: drop-shadow(0px 1px 2px rgba(0, 0, 0, 0.3));\n",
              "      fill: #FFFFFF;\n",
              "    }\n",
              "  </style>\n",
              "\n",
              "      <script>\n",
              "        const buttonEl =\n",
              "          document.querySelector('#df-5b8973fe-6594-4463-8ca2-2e7eda1b6797 button.colab-df-convert');\n",
              "        buttonEl.style.display =\n",
              "          google.colab.kernel.accessAllowed ? 'block' : 'none';\n",
              "\n",
              "        async function convertToInteractive(key) {\n",
              "          const element = document.querySelector('#df-5b8973fe-6594-4463-8ca2-2e7eda1b6797');\n",
              "          const dataTable =\n",
              "            await google.colab.kernel.invokeFunction('convertToInteractive',\n",
              "                                                     [key], {});\n",
              "          if (!dataTable) return;\n",
              "\n",
              "          const docLinkHtml = 'Like what you see? Visit the ' +\n",
              "            '<a target=\"_blank\" href=https://colab.research.google.com/notebooks/data_table.ipynb>data table notebook</a>'\n",
              "            + ' to learn more about interactive tables.';\n",
              "          element.innerHTML = '';\n",
              "          dataTable['output_type'] = 'display_data';\n",
              "          await google.colab.output.renderOutput(dataTable, element);\n",
              "          const docLink = document.createElement('div');\n",
              "          docLink.innerHTML = docLinkHtml;\n",
              "          element.appendChild(docLink);\n",
              "        }\n",
              "      </script>\n",
              "    </div>\n",
              "  </div>\n",
              "  "
            ]
          },
          "metadata": {},
          "execution_count": 108
        }
      ]
    },
    {
      "cell_type": "code",
      "source": [
        "# Read in data\n",
        "pack = pd.read_csv('/content/package_tour.csv', sep=';')\n",
        "\n",
        "\n",
        "# Remove unnecessary columns\n",
        "pack = pack.drop(['duration', ' budget ', 'pack_bundle', 'Unnamed: 5'], axis=1)\n",
        "\n",
        "\n",
        "# Take a look at the data\n",
        "# pack.drop(columns='Unnamed: 5', inplace=True)\n",
        "# pack.drop(columns='duration', inplace=True)\n",
        "# # pack.drop(columns='budget', inplace=True)\n",
        "# pack.drop(columns='pack_bundle', inplace=True)\n",
        "pack.head()"
      ],
      "metadata": {
        "colab": {
          "base_uri": "https://localhost:8080/",
          "height": 206
        },
        "id": "fGG0dV8iqDps",
        "outputId": "b1047228-8c16-41a9-8397-b2ecd31784b4"
      },
      "execution_count": 109,
      "outputs": [
        {
          "output_type": "execute_result",
          "data": {
            "text/plain": [
              "   pack_id         package_name\n",
              "0        1      Combo Program 1\n",
              "1        2      Combo Program 2\n",
              "2        3      Combo Program 3\n",
              "3        4  Overnight Package 1\n",
              "4        5  Overnight Package 2"
            ],
            "text/html": [
              "\n",
              "  <div id=\"df-97869e5a-1f56-483f-90aa-6093474fd8ec\">\n",
              "    <div class=\"colab-df-container\">\n",
              "      <div>\n",
              "<style scoped>\n",
              "    .dataframe tbody tr th:only-of-type {\n",
              "        vertical-align: middle;\n",
              "    }\n",
              "\n",
              "    .dataframe tbody tr th {\n",
              "        vertical-align: top;\n",
              "    }\n",
              "\n",
              "    .dataframe thead th {\n",
              "        text-align: right;\n",
              "    }\n",
              "</style>\n",
              "<table border=\"1\" class=\"dataframe\">\n",
              "  <thead>\n",
              "    <tr style=\"text-align: right;\">\n",
              "      <th></th>\n",
              "      <th>pack_id</th>\n",
              "      <th>package_name</th>\n",
              "    </tr>\n",
              "  </thead>\n",
              "  <tbody>\n",
              "    <tr>\n",
              "      <th>0</th>\n",
              "      <td>1</td>\n",
              "      <td>Combo Program 1</td>\n",
              "    </tr>\n",
              "    <tr>\n",
              "      <th>1</th>\n",
              "      <td>2</td>\n",
              "      <td>Combo Program 2</td>\n",
              "    </tr>\n",
              "    <tr>\n",
              "      <th>2</th>\n",
              "      <td>3</td>\n",
              "      <td>Combo Program 3</td>\n",
              "    </tr>\n",
              "    <tr>\n",
              "      <th>3</th>\n",
              "      <td>4</td>\n",
              "      <td>Overnight Package 1</td>\n",
              "    </tr>\n",
              "    <tr>\n",
              "      <th>4</th>\n",
              "      <td>5</td>\n",
              "      <td>Overnight Package 2</td>\n",
              "    </tr>\n",
              "  </tbody>\n",
              "</table>\n",
              "</div>\n",
              "      <button class=\"colab-df-convert\" onclick=\"convertToInteractive('df-97869e5a-1f56-483f-90aa-6093474fd8ec')\"\n",
              "              title=\"Convert this dataframe to an interactive table.\"\n",
              "              style=\"display:none;\">\n",
              "        \n",
              "  <svg xmlns=\"http://www.w3.org/2000/svg\" height=\"24px\"viewBox=\"0 0 24 24\"\n",
              "       width=\"24px\">\n",
              "    <path d=\"M0 0h24v24H0V0z\" fill=\"none\"/>\n",
              "    <path d=\"M18.56 5.44l.94 2.06.94-2.06 2.06-.94-2.06-.94-.94-2.06-.94 2.06-2.06.94zm-11 1L8.5 8.5l.94-2.06 2.06-.94-2.06-.94L8.5 2.5l-.94 2.06-2.06.94zm10 10l.94 2.06.94-2.06 2.06-.94-2.06-.94-.94-2.06-.94 2.06-2.06.94z\"/><path d=\"M17.41 7.96l-1.37-1.37c-.4-.4-.92-.59-1.43-.59-.52 0-1.04.2-1.43.59L10.3 9.45l-7.72 7.72c-.78.78-.78 2.05 0 2.83L4 21.41c.39.39.9.59 1.41.59.51 0 1.02-.2 1.41-.59l7.78-7.78 2.81-2.81c.8-.78.8-2.07 0-2.86zM5.41 20L4 18.59l7.72-7.72 1.47 1.35L5.41 20z\"/>\n",
              "  </svg>\n",
              "      </button>\n",
              "      \n",
              "  <style>\n",
              "    .colab-df-container {\n",
              "      display:flex;\n",
              "      flex-wrap:wrap;\n",
              "      gap: 12px;\n",
              "    }\n",
              "\n",
              "    .colab-df-convert {\n",
              "      background-color: #E8F0FE;\n",
              "      border: none;\n",
              "      border-radius: 50%;\n",
              "      cursor: pointer;\n",
              "      display: none;\n",
              "      fill: #1967D2;\n",
              "      height: 32px;\n",
              "      padding: 0 0 0 0;\n",
              "      width: 32px;\n",
              "    }\n",
              "\n",
              "    .colab-df-convert:hover {\n",
              "      background-color: #E2EBFA;\n",
              "      box-shadow: 0px 1px 2px rgba(60, 64, 67, 0.3), 0px 1px 3px 1px rgba(60, 64, 67, 0.15);\n",
              "      fill: #174EA6;\n",
              "    }\n",
              "\n",
              "    [theme=dark] .colab-df-convert {\n",
              "      background-color: #3B4455;\n",
              "      fill: #D2E3FC;\n",
              "    }\n",
              "\n",
              "    [theme=dark] .colab-df-convert:hover {\n",
              "      background-color: #434B5C;\n",
              "      box-shadow: 0px 1px 3px 1px rgba(0, 0, 0, 0.15);\n",
              "      filter: drop-shadow(0px 1px 2px rgba(0, 0, 0, 0.3));\n",
              "      fill: #FFFFFF;\n",
              "    }\n",
              "  </style>\n",
              "\n",
              "      <script>\n",
              "        const buttonEl =\n",
              "          document.querySelector('#df-97869e5a-1f56-483f-90aa-6093474fd8ec button.colab-df-convert');\n",
              "        buttonEl.style.display =\n",
              "          google.colab.kernel.accessAllowed ? 'block' : 'none';\n",
              "\n",
              "        async function convertToInteractive(key) {\n",
              "          const element = document.querySelector('#df-97869e5a-1f56-483f-90aa-6093474fd8ec');\n",
              "          const dataTable =\n",
              "            await google.colab.kernel.invokeFunction('convertToInteractive',\n",
              "                                                     [key], {});\n",
              "          if (!dataTable) return;\n",
              "\n",
              "          const docLinkHtml = 'Like what you see? Visit the ' +\n",
              "            '<a target=\"_blank\" href=https://colab.research.google.com/notebooks/data_table.ipynb>data table notebook</a>'\n",
              "            + ' to learn more about interactive tables.';\n",
              "          element.innerHTML = '';\n",
              "          dataTable['output_type'] = 'display_data';\n",
              "          await google.colab.output.renderOutput(dataTable, element);\n",
              "          const docLink = document.createElement('div');\n",
              "          docLink.innerHTML = docLinkHtml;\n",
              "          element.appendChild(docLink);\n",
              "        }\n",
              "      </script>\n",
              "    </div>\n",
              "  </div>\n",
              "  "
            ]
          },
          "metadata": {},
          "execution_count": 109
        }
      ]
    },
    {
      "cell_type": "code",
      "source": [
        "pack.columns"
      ],
      "metadata": {
        "colab": {
          "base_uri": "https://localhost:8080/"
        },
        "id": "arF4hODHzuOk",
        "outputId": "7e84a07c-1006-4445-8670-43fbb12272ab"
      },
      "execution_count": 110,
      "outputs": [
        {
          "output_type": "execute_result",
          "data": {
            "text/plain": [
              "Index(['pack_id', 'package_name'], dtype='object')"
            ]
          },
          "metadata": {},
          "execution_count": 110
        }
      ]
    },
    {
      "cell_type": "code",
      "source": [
        "# Get the dataset information\n",
        "ratings.info()"
      ],
      "metadata": {
        "colab": {
          "base_uri": "https://localhost:8080/"
        },
        "id": "G7GxBiNuqgWn",
        "outputId": "1649065b-814e-4bbc-b0d6-abe81ef9ebc0"
      },
      "execution_count": 73,
      "outputs": [
        {
          "output_type": "stream",
          "name": "stdout",
          "text": [
            "<class 'pandas.core.frame.DataFrame'>\n",
            "RangeIndex: 50 entries, 0 to 49\n",
            "Data columns (total 4 columns):\n",
            " #   Column       Non-Null Count  Dtype\n",
            "---  ------       --------------  -----\n",
            " 0   rating_id    50 non-null     int64\n",
            " 1   user_id      50 non-null     int64\n",
            " 2   pack_id      50 non-null     int64\n",
            " 3   pack_rating  50 non-null     int64\n",
            "dtypes: int64(4)\n",
            "memory usage: 1.7 KB\n"
          ]
        }
      ]
    },
    {
      "cell_type": "code",
      "source": [
        "# Get the dataset information\n",
        "pack.info()"
      ],
      "metadata": {
        "colab": {
          "base_uri": "https://localhost:8080/"
        },
        "id": "RPK58T0QrIxB",
        "outputId": "0e380376-e76e-4ad4-93a9-d2699d87ec24"
      },
      "execution_count": 74,
      "outputs": [
        {
          "output_type": "stream",
          "name": "stdout",
          "text": [
            "<class 'pandas.core.frame.DataFrame'>\n",
            "RangeIndex: 5 entries, 0 to 4\n",
            "Data columns (total 2 columns):\n",
            " #   Column        Non-Null Count  Dtype \n",
            "---  ------        --------------  ----- \n",
            " 0   pack_id       5 non-null      int64 \n",
            " 1   package_name  5 non-null      object\n",
            "dtypes: int64(1), object(1)\n",
            "memory usage: 208.0+ bytes\n"
          ]
        }
      ]
    },
    {
      "cell_type": "code",
      "source": [
        "# Visualizing with the pack_rating column\n",
        "pack_ratings=ratings['pack_rating'].value_counts()\n",
        "\n",
        "dims = (14, 6)\n",
        "fig, ax = plt.subplots(figsize=dims)\n",
        "ax = sns.countplot(x=ratings.pack_rating)"
      ],
      "metadata": {
        "colab": {
          "base_uri": "https://localhost:8080/",
          "height": 445
        },
        "id": "ykXZanVAxtnv",
        "outputId": "493f88fa-f31c-4490-819f-698d9440afc5"
      },
      "execution_count": 75,
      "outputs": [
        {
          "output_type": "display_data",
          "data": {
            "text/plain": [
              "<Figure size 1400x600 with 1 Axes>"
            ],
            "image/png": "[encoded data removed]"
          },
          "metadata": {}
        }
      ]
    },
    {
      "cell_type": "code",
      "source": [
        "# Number of users\n",
        "print('The ratings dataset has', ratings['user_id'].nunique(), 'unique users')\n",
        "\n",
        "# Number of package\n",
        "print('The ratings dataset has', ratings['pack_id'].nunique(), 'unique package')\n",
        "\n",
        "# Number of ratings\n",
        "print('The ratings dataset has', ratings['pack_rating'].nunique(), 'unique ratings')\n",
        "\n",
        "# List of unique ratings\n",
        "print('The unique ratings are', sorted(ratings['pack_rating'].unique()))"
      ],
      "metadata": {
        "colab": {
          "base_uri": "https://localhost:8080/"
        },
        "id": "VQbPVG5IrLUF",
        "outputId": "52bee47c-e531-4c43-ba3d-855574042f9e"
      },
      "execution_count": 76,
      "outputs": [
        {
          "output_type": "stream",
          "name": "stdout",
          "text": [
            "The ratings dataset has 30 unique users\n",
            "The ratings dataset has 5 unique package\n",
            "The ratings dataset has 5 unique ratings\n",
            "The unique ratings are [1, 2, 3, 4, 5]\n"
          ]
        }
      ]
    },
    {
      "cell_type": "code",
      "source": [
        "# Merge ratings and package datasets\n",
        "df = pd.merge(ratings, pack, on='pack_id', how='inner')\n",
        "\n",
        "# Take a look at the df\n",
        "df.head()\n"
      ],
      "metadata": {
        "colab": {
          "base_uri": "https://localhost:8080/",
          "height": 206
        },
        "id": "h7V_ExNe6u_r",
        "outputId": "27fc5045-c2ab-42d8-ad10-d57a5c969ff6"
      },
      "execution_count": 111,
      "outputs": [
        {
          "output_type": "execute_result",
          "data": {
            "text/plain": [
              "   rating_id  user_id  pack_id  pack_rating     package_name\n",
              "0          1        1        1            4  Combo Program 1\n",
              "1          2        3        1            2  Combo Program 1\n",
              "2         15        7        1            3  Combo Program 1\n",
              "3         16        9        1            4  Combo Program 1\n",
              "4         28       14        1            5  Combo Program 1"
            ],
            "text/html": [
              "\n",
              "  <div id=\"df-6eef4e29-27c1-4066-8cce-3a00404a400f\">\n",
              "    <div class=\"colab-df-container\">\n",
              "      <div>\n",
              "<style scoped>\n",
              "    .dataframe tbody tr th:only-of-type {\n",
              "        vertical-align: middle;\n",
              "    }\n",
              "\n",
              "    .dataframe tbody tr th {\n",
              "        vertical-align: top;\n",
              "    }\n",
              "\n",
              "    .dataframe thead th {\n",
              "        text-align: right;\n",
              "    }\n",
              "</style>\n",
              "<table border=\"1\" class=\"dataframe\">\n",
              "  <thead>\n",
              "    <tr style=\"text-align: right;\">\n",
              "      <th></th>\n",
              "      <th>rating_id</th>\n",
              "      <th>user_id</th>\n",
              "      <th>pack_id</th>\n",
              "      <th>pack_rating</th>\n",
              "      <th>package_name</th>\n",
              "    </tr>\n",
              "  </thead>\n",
              "  <tbody>\n",
              "    <tr>\n",
              "      <th>0</th>\n",
              "      <td>1</td>\n",
              "      <td>1</td>\n",
              "      <td>1</td>\n",
              "      <td>4</td>\n",
              "      <td>Combo Program 1</td>\n",
              "    </tr>\n",
              "    <tr>\n",
              "      <th>1</th>\n",
              "      <td>2</td>\n",
              "      <td>3</td>\n",
              "      <td>1</td>\n",
              "      <td>2</td>\n",
              "      <td>Combo Program 1</td>\n",
              "    </tr>\n",
              "    <tr>\n",
              "      <th>2</th>\n",
              "      <td>15</td>\n",
              "      <td>7</td>\n",
              "      <td>1</td>\n",
              "      <td>3</td>\n",
              "      <td>Combo Program 1</td>\n",
              "    </tr>\n",
              "    <tr>\n",
              "      <th>3</th>\n",
              "      <td>16</td>\n",
              "      <td>9</td>\n",
              "      <td>1</td>\n",
              "      <td>4</td>\n",
              "      <td>Combo Program 1</td>\n",
              "    </tr>\n",
              "    <tr>\n",
              "      <th>4</th>\n",
              "      <td>28</td>\n",
              "      <td>14</td>\n",
              "      <td>1</td>\n",
              "      <td>5</td>\n",
              "      <td>Combo Program 1</td>\n",
              "    </tr>\n",
              "  </tbody>\n",
              "</table>\n",
              "</div>\n",
              "      <button class=\"colab-df-convert\" onclick=\"convertToInteractive('df-6eef4e29-27c1-4066-8cce-3a00404a400f')\"\n",
              "              title=\"Convert this dataframe to an interactive table.\"\n",
              "              style=\"display:none;\">\n",
              "        \n",
              "  <svg xmlns=\"http://www.w3.org/2000/svg\" height=\"24px\"viewBox=\"0 0 24 24\"\n",
              "       width=\"24px\">\n",
              "    <path d=\"M0 0h24v24H0V0z\" fill=\"none\"/>\n",
              "    <path d=\"M18.56 5.44l.94 2.06.94-2.06 2.06-.94-2.06-.94-.94-2.06-.94 2.06-2.06.94zm-11 1L8.5 8.5l.94-2.06 2.06-.94-2.06-.94L8.5 2.5l-.94 2.06-2.06.94zm10 10l.94 2.06.94-2.06 2.06-.94-2.06-.94-.94-2.06-.94 2.06-2.06.94z\"/><path d=\"M17.41 7.96l-1.37-1.37c-.4-.4-.92-.59-1.43-.59-.52 0-1.04.2-1.43.59L10.3 9.45l-7.72 7.72c-.78.78-.78 2.05 0 2.83L4 21.41c.39.39.9.59 1.41.59.51 0 1.02-.2 1.41-.59l7.78-7.78 2.81-2.81c.8-.78.8-2.07 0-2.86zM5.41 20L4 18.59l7.72-7.72 1.47 1.35L5.41 20z\"/>\n",
              "  </svg>\n",
              "      </button>\n",
              "      \n",
              "  <style>\n",
              "    .colab-df-container {\n",
              "      display:flex;\n",
              "      flex-wrap:wrap;\n",
              "      gap: 12px;\n",
              "    }\n",
              "\n",
              "    .colab-df-convert {\n",
              "      background-color: #E8F0FE;\n",
              "      border: none;\n",
              "      border-radius: 50%;\n",
              "      cursor: pointer;\n",
              "      display: none;\n",
              "      fill: #1967D2;\n",
              "      height: 32px;\n",
              "      padding: 0 0 0 0;\n",
              "      width: 32px;\n",
              "    }\n",
              "\n",
              "    .colab-df-convert:hover {\n",
              "      background-color: #E2EBFA;\n",
              "      box-shadow: 0px 1px 2px rgba(60, 64, 67, 0.3), 0px 1px 3px 1px rgba(60, 64, 67, 0.15);\n",
              "      fill: #174EA6;\n",
              "    }\n",
              "\n",
              "    [theme=dark] .colab-df-convert {\n",
              "      background-color: #3B4455;\n",
              "      fill: #D2E3FC;\n",
              "    }\n",
              "\n",
              "    [theme=dark] .colab-df-convert:hover {\n",
              "      background-color: #434B5C;\n",
              "      box-shadow: 0px 1px 3px 1px rgba(0, 0, 0, 0.15);\n",
              "      filter: drop-shadow(0px 1px 2px rgba(0, 0, 0, 0.3));\n",
              "      fill: #FFFFFF;\n",
              "    }\n",
              "  </style>\n",
              "\n",
              "      <script>\n",
              "        const buttonEl =\n",
              "          document.querySelector('#df-6eef4e29-27c1-4066-8cce-3a00404a400f button.colab-df-convert');\n",
              "        buttonEl.style.display =\n",
              "          google.colab.kernel.accessAllowed ? 'block' : 'none';\n",
              "\n",
              "        async function convertToInteractive(key) {\n",
              "          const element = document.querySelector('#df-6eef4e29-27c1-4066-8cce-3a00404a400f');\n",
              "          const dataTable =\n",
              "            await google.colab.kernel.invokeFunction('convertToInteractive',\n",
              "                                                     [key], {});\n",
              "          if (!dataTable) return;\n",
              "\n",
              "          const docLinkHtml = 'Like what you see? Visit the ' +\n",
              "            '<a target=\"_blank\" href=https://colab.research.google.com/notebooks/data_table.ipynb>data table notebook</a>'\n",
              "            + ' to learn more about interactive tables.';\n",
              "          element.innerHTML = '';\n",
              "          dataTable['output_type'] = 'display_data';\n",
              "          await google.colab.output.renderOutput(dataTable, element);\n",
              "          const docLink = document.createElement('div');\n",
              "          docLink.innerHTML = docLinkHtml;\n",
              "          element.appendChild(docLink);\n",
              "        }\n",
              "      </script>\n",
              "    </div>\n",
              "  </div>\n",
              "  "
            ]
          },
          "metadata": {},
          "execution_count": 111
        }
      ]
    },
    {
      "cell_type": "code",
      "source": [
        "# Load data from DataFrame\n",
        "reader = Reader(rating_scale=(1, 5))\n",
        "data = Dataset.load_from_df(df[['user_id', 'pack_id', 'pack_rating']], reader)\n"
      ],
      "metadata": {
        "id": "DAfUOOXA6wZ3"
      },
      "execution_count": 112,
      "outputs": []
    },
    {
      "cell_type": "code",
      "source": [
        "average_ratings = pd.DataFrame(data.raw_ratings, columns=['user_id', 'pack_id', 'pack_rating', 'timestamp'])\n",
        "average_ratings = average_ratings.groupby('pack_id')['pack_rating'].mean().reset_index()\n",
        "average_ratings.head(10)"
      ],
      "metadata": {
        "id": "4d_Ea7y2RbyX",
        "outputId": "141cca49-8a2b-4d16-cd74-ded3f7e6a60c",
        "colab": {
          "base_uri": "https://localhost:8080/",
          "height": 206
        }
      },
      "execution_count": 117,
      "outputs": [
        {
          "output_type": "execute_result",
          "data": {
            "text/plain": [
              "   pack_id  pack_rating\n",
              "0        1     3.333333\n",
              "1        2     3.307692\n",
              "2        3     3.700000\n",
              "3        4     3.666667\n",
              "4        5     3.000000"
            ],
            "text/html": [
              "\n",
              "  <div id=\"df-40063fd2-2c7c-4029-8eba-2d0506add552\">\n",
              "    <div class=\"colab-df-container\">\n",
              "      <div>\n",
              "<style scoped>\n",
              "    .dataframe tbody tr th:only-of-type {\n",
              "        vertical-align: middle;\n",
              "    }\n",
              "\n",
              "    .dataframe tbody tr th {\n",
              "        vertical-align: top;\n",
              "    }\n",
              "\n",
              "    .dataframe thead th {\n",
              "        text-align: right;\n",
              "    }\n",
              "</style>\n",
              "<table border=\"1\" class=\"dataframe\">\n",
              "  <thead>\n",
              "    <tr style=\"text-align: right;\">\n",
              "      <th></th>\n",
              "      <th>pack_id</th>\n",
              "      <th>pack_rating</th>\n",
              "    </tr>\n",
              "  </thead>\n",
              "  <tbody>\n",
              "    <tr>\n",
              "      <th>0</th>\n",
              "      <td>1</td>\n",
              "      <td>3.333333</td>\n",
              "    </tr>\n",
              "    <tr>\n",
              "      <th>1</th>\n",
              "      <td>2</td>\n",
              "      <td>3.307692</td>\n",
              "    </tr>\n",
              "    <tr>\n",
              "      <th>2</th>\n",
              "      <td>3</td>\n",
              "      <td>3.700000</td>\n",
              "    </tr>\n",
              "    <tr>\n",
              "      <th>3</th>\n",
              "      <td>4</td>\n",
              "      <td>3.666667</td>\n",
              "    </tr>\n",
              "    <tr>\n",
              "      <th>4</th>\n",
              "      <td>5</td>\n",
              "      <td>3.000000</td>\n",
              "    </tr>\n",
              "  </tbody>\n",
              "</table>\n",
              "</div>\n",
              "      <button class=\"colab-df-convert\" onclick=\"convertToInteractive('df-40063fd2-2c7c-4029-8eba-2d0506add552')\"\n",
              "              title=\"Convert this dataframe to an interactive table.\"\n",
              "              style=\"display:none;\">\n",
              "        \n",
              "  <svg xmlns=\"http://www.w3.org/2000/svg\" height=\"24px\"viewBox=\"0 0 24 24\"\n",
              "       width=\"24px\">\n",
              "    <path d=\"M0 0h24v24H0V0z\" fill=\"none\"/>\n",
              "    <path d=\"M18.56 5.44l.94 2.06.94-2.06 2.06-.94-2.06-.94-.94-2.06-.94 2.06-2.06.94zm-11 1L8.5 8.5l.94-2.06 2.06-.94-2.06-.94L8.5 2.5l-.94 2.06-2.06.94zm10 10l.94 2.06.94-2.06 2.06-.94-2.06-.94-.94-2.06-.94 2.06-2.06.94z\"/><path d=\"M17.41 7.96l-1.37-1.37c-.4-.4-.92-.59-1.43-.59-.52 0-1.04.2-1.43.59L10.3 9.45l-7.72 7.72c-.78.78-.78 2.05 0 2.83L4 21.41c.39.39.9.59 1.41.59.51 0 1.02-.2 1.41-.59l7.78-7.78 2.81-2.81c.8-.78.8-2.07 0-2.86zM5.41 20L4 18.59l7.72-7.72 1.47 1.35L5.41 20z\"/>\n",
              "  </svg>\n",
              "      </button>\n",
              "      \n",
              "  <style>\n",
              "    .colab-df-container {\n",
              "      display:flex;\n",
              "      flex-wrap:wrap;\n",
              "      gap: 12px;\n",
              "    }\n",
              "\n",
              "    .colab-df-convert {\n",
              "      background-color: #E8F0FE;\n",
              "      border: none;\n",
              "      border-radius: 50%;\n",
              "      cursor: pointer;\n",
              "      display: none;\n",
              "      fill: #1967D2;\n",
              "      height: 32px;\n",
              "      padding: 0 0 0 0;\n",
              "      width: 32px;\n",
              "    }\n",
              "\n",
              "    .colab-df-convert:hover {\n",
              "      background-color: #E2EBFA;\n",
              "      box-shadow: 0px 1px 2px rgba(60, 64, 67, 0.3), 0px 1px 3px 1px rgba(60, 64, 67, 0.15);\n",
              "      fill: #174EA6;\n",
              "    }\n",
              "\n",
              "    [theme=dark] .colab-df-convert {\n",
              "      background-color: #3B4455;\n",
              "      fill: #D2E3FC;\n",
              "    }\n",
              "\n",
              "    [theme=dark] .colab-df-convert:hover {\n",
              "      background-color: #434B5C;\n",
              "      box-shadow: 0px 1px 3px 1px rgba(0, 0, 0, 0.15);\n",
              "      filter: drop-shadow(0px 1px 2px rgba(0, 0, 0, 0.3));\n",
              "      fill: #FFFFFF;\n",
              "    }\n",
              "  </style>\n",
              "\n",
              "      <script>\n",
              "        const buttonEl =\n",
              "          document.querySelector('#df-40063fd2-2c7c-4029-8eba-2d0506add552 button.colab-df-convert');\n",
              "        buttonEl.style.display =\n",
              "          google.colab.kernel.accessAllowed ? 'block' : 'none';\n",
              "\n",
              "        async function convertToInteractive(key) {\n",
              "          const element = document.querySelector('#df-40063fd2-2c7c-4029-8eba-2d0506add552');\n",
              "          const dataTable =\n",
              "            await google.colab.kernel.invokeFunction('convertToInteractive',\n",
              "                                                     [key], {});\n",
              "          if (!dataTable) return;\n",
              "\n",
              "          const docLinkHtml = 'Like what you see? Visit the ' +\n",
              "            '<a target=\"_blank\" href=https://colab.research.google.com/notebooks/data_table.ipynb>data table notebook</a>'\n",
              "            + ' to learn more about interactive tables.';\n",
              "          element.innerHTML = '';\n",
              "          dataTable['output_type'] = 'display_data';\n",
              "          await google.colab.output.renderOutput(dataTable, element);\n",
              "          const docLink = document.createElement('div');\n",
              "          docLink.innerHTML = docLinkHtml;\n",
              "          element.appendChild(docLink);\n",
              "        }\n",
              "      </script>\n",
              "    </div>\n",
              "  </div>\n",
              "  "
            ]
          },
          "metadata": {},
          "execution_count": 117
        }
      ]
    },
    {
      "cell_type": "code",
      "source": [
        "# # Dividing the dataset into training data and test data\n",
        "# trainset = data.build_full_trainset()\n",
        "\n",
        "# Split the dataset into training set and test set\n",
        "# trainset, testset = train_test_split(data, test_size=0.2)"
      ],
      "metadata": {
        "id": "tfIInfzI62gS"
      },
      "execution_count": 13,
      "outputs": []
    },
    {
      "cell_type": "markdown",
      "source": [
        "### SVD MODEL"
      ],
      "metadata": {
        "id": "zu7jNnnt_fGA"
      }
    },
    {
      "cell_type": "code",
      "source": [
        "# Train SVD models\n",
        "reg_param = 0.02\n",
        "model = SVD(reg_all=reg_param)\n"
      ],
      "metadata": {
        "id": "Kzm15kCT7IeF"
      },
      "execution_count": 118,
      "outputs": []
    },
    {
      "cell_type": "code",
      "source": [
        "cv_results = cross_validate(model, data, measures=['RMSE', 'MAE','MSE'], cv=5, verbose=True)\n"
      ],
      "metadata": {
        "colab": {
          "base_uri": "https://localhost:8080/"
        },
        "id": "4UJFQ_52IapH",
        "outputId": "e297c506-f85c-4233-f676-44d57722914b"
      },
      "execution_count": 119,
      "outputs": [
        {
          "output_type": "stream",
          "name": "stdout",
          "text": [
            "Evaluating RMSE, MAE, MSE of algorithm SVD on 5 split(s).\n",
            "\n",
            "                  Fold 1  Fold 2  Fold 3  Fold 4  Fold 5  Mean    Std     \n",
            "RMSE (testset)    1.0778  1.5055  1.1923  1.6227  1.4568  1.3710  0.2033  \n",
            "MAE (testset)     0.8479  1.2441  0.9587  1.4859  1.3394  1.1752  0.2376  \n",
            "MSE (testset)     1.1617  2.2666  1.4215  2.6331  2.1223  1.9210  0.5465  \n",
            "Fit time          0.00    0.00    0.00    0.00    0.00    0.00    0.00    \n",
            "Test time         0.00    0.00    0.00    0.00    0.00    0.00    0.00    \n"
          ]
        }
      ]
    },
    {
      "cell_type": "code",
      "source": [
        "# Extract the average scores from cross-validation results\n",
        "avg_rmse = np.mean(cv_results['test_rmse'])\n",
        "avg_mae = np.mean(cv_results['test_mae'])\n",
        "avg_mse = np.mean(cv_results['test_mse'])\n",
        "\n",
        "# Print the average scores\n",
        "print(\"Cross-Validation - Average RMSE:\", avg_rmse)\n",
        "print(\"Cross-Validation - Average MAE:\", avg_mae)\n",
        "print(\"Cross-Validation - Average MSE:\", avg_mse)"
      ],
      "metadata": {
        "colab": {
          "base_uri": "https://localhost:8080/"
        },
        "id": "Jz_ogD5jIsrm",
        "outputId": "64c5d0c4-3969-4177-9463-6ef883d7eee8"
      },
      "execution_count": 120,
      "outputs": [
        {
          "output_type": "stream",
          "name": "stdout",
          "text": [
            "Cross-Validation - Average RMSE: 1.3710132016342593\n",
            "Cross-Validation - Average MAE: 1.1752175530761388\n",
            "Cross-Validation - Average MSE: 1.9210200343343657\n"
          ]
        }
      ]
    },
    {
      "cell_type": "code",
      "source": [
        "# Adjust the regularization parameter and re-evaluate\n",
        "reg_param = 0.1\n",
        "model.reg_all = reg_param\n",
        "\n",
        "# Train the model on the full dataset\n",
        "trainset = data.build_full_trainset()\n",
        "model.fit(trainset)"
      ],
      "metadata": {
        "colab": {
          "base_uri": "https://localhost:8080/"
        },
        "id": "DehimsMHIvd8",
        "outputId": "a5dba587-7235-4c3d-a527-8878ccec63b8"
      },
      "execution_count": 121,
      "outputs": [
        {
          "output_type": "execute_result",
          "data": {
            "text/plain": [
              "<surprise.prediction_algorithms.matrix_factorization.SVD at 0x7f34f498ed70>"
            ]
          },
          "metadata": {},
          "execution_count": 121
        }
      ]
    },
    {
      "cell_type": "code",
      "source": [
        "# Predict on the training set\n",
        "train_predictions = model.test(trainset.build_testset())\n",
        "\n",
        "# Calculate training set errors\n",
        "train_rmse = accuracy.rmse(train_predictions)\n",
        "train_mae = accuracy.mae(train_predictions)\n",
        "train_mse = accuracy.mse(train_predictions)\n",
        "\n",
        "# Print training set errors\n",
        "print(\"Training Set - RMSE:\", train_rmse)\n",
        "print(\"Training Set - MAE:\", train_mae)\n",
        "print(\"Training Set - MSE:\", train_mse)\n",
        "# Predict on the test set\n",
        "testset = trainset.build_testset()\n",
        "test_predictions = model.test(testset)\n",
        "\n",
        "# Calculate test set errors\n",
        "test_rmse = accuracy.rmse(test_predictions)\n",
        "test_mae = accuracy.mae(test_predictions)\n",
        "test_mse = accuracy.mse(test_predictions)\n",
        "\n",
        "# Print test set errors\n",
        "print(\"Test Set - RMSE:\", test_rmse)\n",
        "print(\"Test Set - MAE:\", test_mae)\n",
        "print(\"Test Set - MSE:\", test_mse)"
      ],
      "metadata": {
        "colab": {
          "base_uri": "https://localhost:8080/"
        },
        "id": "jDos0IYgJYUB",
        "outputId": "fb03be7b-568d-4cb0-bbe6-82ede3d2b93e"
      },
      "execution_count": 122,
      "outputs": [
        {
          "output_type": "stream",
          "name": "stdout",
          "text": [
            "RMSE: 0.9374\n",
            "MAE:  0.8033\n",
            "MSE: 0.8787\n",
            "Training Set - RMSE: 0.9373784613109493\n",
            "Training Set - MAE: 0.8033431361931178\n",
            "Training Set - MSE: 0.8786783797296829\n",
            "RMSE: 0.9374\n",
            "MAE:  0.8033\n",
            "MSE: 0.8787\n",
            "Test Set - RMSE: 0.9373784613109493\n",
            "Test Set - MAE: 0.8033431361931178\n",
            "Test Set - MSE: 0.8786783797296829\n"
          ]
        }
      ]
    },
    {
      "cell_type": "code",
      "source": [
        "user_id = 1\n",
        "pack_id = 4\n",
        "predicted_rating = model.predict(user_id, pack_id).est\n",
        "print(\"Predicted rating:\", predicted_rating)\n"
      ],
      "metadata": {
        "colab": {
          "base_uri": "https://localhost:8080/"
        },
        "id": "DPeSOGJ-7NFt",
        "outputId": "a5847453-4269-4dda-bcfa-7f19730e355f"
      },
      "execution_count": 123,
      "outputs": [
        {
          "output_type": "stream",
          "name": "stdout",
          "text": [
            "Predicted rating: 3.2820428366483267\n"
          ]
        }
      ]
    },
    {
      "cell_type": "markdown",
      "source": [
        "### RECOMENDER SYSTEM"
      ],
      "metadata": {
        "id": "YRHKIZrn_YGN"
      }
    },
    {
      "cell_type": "code",
      "source": [
        "#if user exist in rating user_id\n",
        "\n",
        "def get_top_recommendations(user_id, model, data):\n",
        "    all_pack_ids = list(data.df['pack_id'].unique())  # Get all unique pack IDs\n",
        "\n",
        "    # Predict ratings for each pack and store them in a dictionary\n",
        "    predicted_ratings = {}\n",
        "    for pack_id in all_pack_ids:\n",
        "        predicted_rating = model.predict(user_id, pack_id).est\n",
        "        predicted_ratings[pack_id] = predicted_rating\n",
        "\n",
        "    # Sort the predicted ratings in descending order\n",
        "    sorted_ratings = sorted(predicted_ratings.items(), key=lambda x: x[1], reverse=True)\n",
        "\n",
        "    # Get the top 4 recommendations\n",
        "    top_recommendations = sorted_ratings[:4]\n",
        "\n",
        "    return top_recommendations\n",
        "    \n",
        "#if user not exist in rating user_id\n",
        "def get_top_popular_packs(data):\n",
        "    # Get the list of all pack IDs\n",
        "    all_pack_ids = list(data.df['pack_id'].unique())  # Get all unique pack IDs\n",
        "\n",
        "    # Calculate the popularity of each pack (e.g., based on the number of ratings or interactions)\n",
        "    pack_popularity = {}\n",
        "    for pack_id in all_pack_ids:\n",
        "        pack_popularity[pack_id] = len(data.df[data.df['pack_id'] == pack_id])\n",
        "\n",
        "    # Sort the pack popularity in descending order\n",
        "    sorted_popularity = sorted(pack_popularity.items(), key=lambda x: x[1], reverse=True)\n",
        "\n",
        "    # Get the top 4 most popular packs as recommendations\n",
        "    top_recommendations = sorted_popularity[:4]\n",
        "\n",
        "    return top_recommendations\n",
        "\n",
        "#get avg ratings\n",
        "# def calculate_average_ratings(data):\n",
        "#     # Group the data by pack_id and calculate the average rating for each item\n",
        "#     all_pack_ids = list(data.df['pack_id'])\n",
        "#     all_pack_ratings = list(data.df['pack_rating'])\n",
        "#     average_ratings = {}\n",
        "\n",
        "#     for pack_id, pack_rating in zip(all_pack_ids, all_pack_ratings):\n",
        "#         if pack_id in average_ratings:\n",
        "#             average_ratings[pack_id]['total_rating'] += pack_rating\n",
        "#             average_ratings[pack_id]['count'] += 1\n",
        "#         else:\n",
        "#             average_ratings[pack_id] = {'total_rating': pack_rating, 'count': 1}\n",
        "\n",
        "#     for pack_id in average_ratings:\n",
        "#         average_ratings[pack_id]['average_rating'] = average_ratings[pack_id]['total_rating'] / average_ratings[pack_id]['count']\n",
        "\n",
        "#     return average_ratings\n",
        "\n",
        "\n"
      ],
      "metadata": {
        "id": "kBsTiR5O9f6X"
      },
      "execution_count": 128,
      "outputs": []
    },
    {
      "cell_type": "code",
      "source": [
        "def user_based_cf(data, user_id):\n",
        "    # Get the list of all user IDs\n",
        "    all_user_ids = list(data.df['user_id'].unique())  # Get all unique user IDs\n",
        "\n",
        "    # Check if the given user_id exists in the dataset\n",
        "    if user_id in all_user_ids:\n",
        "      top_recommendations = get_top_recommendations(user_id, model, data)\n",
        "      for pack_id, predicted_rating in top_recommendations:\n",
        "        print(f\"Pack ID: {pack_id}, Predicted Rating: {predicted_rating}\")\n",
        "    else:\n",
        "      # Example usage\n",
        "      top_popular_packs = get_top_popular_packs(data)\n",
        "\n",
        "      # Print the top recommendations\n",
        "      for pack_id, popularity in top_popular_packs:\n",
        "        print(f\"Pack ID: {pack_id}, Popularity: {popularity}\")\n"
      ],
      "metadata": {
        "id": "2tgaC4qY962r"
      },
      "execution_count": 129,
      "outputs": []
    },
    {
      "cell_type": "code",
      "source": [
        "def user_based_cf(data, user_id):\n",
        "    # Get the list of all user IDs\n",
        "    all_user_ids = list(data.df['user_id'].unique())  # Get all unique user IDs\n",
        "\n",
        "    # Check if the given user_id exists in the dataset\n",
        "    if user_id in all_user_ids:\n",
        "        top_recommendations = get_top_recommendations(user_id, model, data)\n",
        "        for pack_id, predicted_rating in top_recommendations:\n",
        "            # Retrieve the average rating for the pack_id\n",
        "            avg_rating = average_ratings.loc[average_ratings['pack_id'] == pack_id, 'pack_rating'].iloc[0]\n",
        "            print(f\"Pack ID: {pack_id}, Predicted Rating: {predicted_rating}, Average Rating: {avg_rating}\")\n",
        "    else:\n",
        "        # Example usage\n",
        "        top_popular_packs = get_top_popular_packs(data)\n",
        "\n",
        "        # Print the top recommendations\n",
        "        for pack_id, popularity in top_popular_packs:\n",
        "            # Retrieve the average rating for the pack_id\n",
        "            avg_rating = average_ratings.loc[average_ratings['pack_id'] == pack_id, 'pack_rating'].iloc[0]\n",
        "            print(f\"Pack ID: {pack_id}, Popularity: {popularity}, Average Rating: {avg_rating}\")\n"
      ],
      "metadata": {
        "id": "ZKioqJu5Fhiq"
      },
      "execution_count": 131,
      "outputs": []
    },
    {
      "cell_type": "code",
      "source": [
        "user_id = 31\n",
        "user_based_cf(data, user_id)"
      ],
      "metadata": {
        "colab": {
          "base_uri": "https://localhost:8080/"
        },
        "id": "eFt8VLrj-50_",
        "outputId": "55a4fc4b-7d63-4932-df8f-a04bf2c9eac9"
      },
      "execution_count": 136,
      "outputs": [
        {
          "output_type": "stream",
          "name": "stdout",
          "text": [
            "Pack ID: 2, Popularity: 13, Average Rating: 3.3076923076923075\n",
            "Pack ID: 3, Popularity: 10, Average Rating: 3.7\n",
            "Pack ID: 1, Popularity: 9, Average Rating: 3.3333333333333335\n",
            "Pack ID: 4, Popularity: 9, Average Rating: 3.6666666666666665\n"
          ]
        }
      ]
    },
    {
      "cell_type": "code",
      "source": [],
      "metadata": {
        "id": "3gilFdNWP9-m"
      },
      "execution_count": null,
      "outputs": []
    }
  ]
}